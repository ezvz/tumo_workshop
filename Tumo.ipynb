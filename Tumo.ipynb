{
 "cells": [
  {
   "cell_type": "markdown",
   "metadata": {},
   "source": [
    "# Introduction To Python"
   ]
  },
  {
   "cell_type": "markdown",
   "metadata": {},
   "source": [
    "### Variables"
   ]
  },
  {
   "cell_type": "code",
   "execution_count": 7,
   "metadata": {
    "collapsed": false
   },
   "outputs": [
    {
     "name": "stdout",
     "output_type": "stream",
     "text": [
      "Let's learn python!\n"
     ]
    }
   ],
   "source": [
    "print \"Let's learn python!\""
   ]
  },
  {
   "cell_type": "code",
   "execution_count": 8,
   "metadata": {
    "collapsed": false
   },
   "outputs": [
    {
     "name": "stdout",
     "output_type": "stream",
     "text": [
      "3\n"
     ]
    }
   ],
   "source": [
    "one = 1\n",
    "two = 2\n",
    "three = one + two\n",
    "print three"
   ]
  },
  {
   "cell_type": "code",
   "execution_count": 9,
   "metadata": {
    "collapsed": false
   },
   "outputs": [
    {
     "name": "stdout",
     "output_type": "stream",
     "text": [
      "hello world\n"
     ]
    }
   ],
   "source": [
    "hello = \"hello\"\n",
    "world = \"world\"\n",
    "helloworld = hello + \" \" + world\n",
    "print helloworld"
   ]
  },
  {
   "cell_type": "code",
   "execution_count": 13,
   "metadata": {
    "collapsed": false
   },
   "outputs": [
    {
     "name": "stdout",
     "output_type": "stream",
     "text": [
      "0\n"
     ]
    }
   ],
   "source": [
    "one = 1\n",
    "two = 2\n",
    "# What do you think this will be?\n",
    "print one/two\n"
   ]
  },
  {
   "cell_type": "code",
   "execution_count": 14,
   "metadata": {
    "collapsed": false
   },
   "outputs": [
    {
     "name": "stdout",
     "output_type": "stream",
     "text": [
      "0.5\n"
     ]
    }
   ],
   "source": [
    "one = 1.0\n",
    "two = 2\n",
    "print one/two"
   ]
  },
  {
   "cell_type": "code",
   "execution_count": 29,
   "metadata": {
    "collapsed": false
   },
   "outputs": [
    {
     "name": "stdout",
     "output_type": "stream",
     "text": [
      "2\n",
      "2.5\n"
     ]
    }
   ],
   "source": [
    "print 5/2\n",
    "print 5.0/2"
   ]
  },
  {
   "cell_type": "markdown",
   "metadata": {},
   "source": [
    "## Data Structures"
   ]
  },
  {
   "cell_type": "markdown",
   "metadata": {},
   "source": [
    "### Lists"
   ]
  },
  {
   "cell_type": "code",
   "execution_count": 21,
   "metadata": {
    "collapsed": false
   },
   "outputs": [
    {
     "name": "stdout",
     "output_type": "stream",
     "text": [
      "[1, 2, 3]\n"
     ]
    }
   ],
   "source": [
    "my_list = [1, 2, 3]\n",
    "print my_list"
   ]
  },
  {
   "cell_type": "code",
   "execution_count": 22,
   "metadata": {
    "collapsed": false
   },
   "outputs": [
    {
     "name": "stdout",
     "output_type": "stream",
     "text": [
      "[1, 2, 3, 4]\n"
     ]
    }
   ],
   "source": [
    "my_list.append(4)\n",
    "print my_list"
   ]
  },
  {
   "cell_type": "code",
   "execution_count": 23,
   "metadata": {
    "collapsed": false
   },
   "outputs": [
    {
     "name": "stdout",
     "output_type": "stream",
     "text": [
      "1 2 3\n"
     ]
    }
   ],
   "source": [
    "print my_list[0], my_list[1], my_list[2]"
   ]
  },
  {
   "cell_type": "code",
   "execution_count": 25,
   "metadata": {
    "collapsed": false
   },
   "outputs": [
    {
     "name": "stdout",
     "output_type": "stream",
     "text": [
      "4 3 2\n"
     ]
    }
   ],
   "source": [
    "print my_list[-1], my_list[-2], my_list[-3]"
   ]
  },
  {
   "cell_type": "code",
   "execution_count": 27,
   "metadata": {
    "collapsed": false
   },
   "outputs": [
    {
     "name": "stdout",
     "output_type": "stream",
     "text": [
      "[1, 2, 3, 'hello', 'how', 'are', 'you']\n"
     ]
    }
   ],
   "source": [
    "weird_list = [1, 2, 3, \"hello\", \"how\", \"are\", \"you\"]\n",
    "print weird_list"
   ]
  },
  {
   "cell_type": "markdown",
   "metadata": {},
   "source": [
    "### Dictionaries"
   ]
  },
  {
   "cell_type": "code",
   "execution_count": 71,
   "metadata": {
    "collapsed": true
   },
   "outputs": [],
   "source": [
    "my_dict = {\"one\": 1, \"two\": 2, \"hello\": \"world\"}"
   ]
  },
  {
   "cell_type": "code",
   "execution_count": 72,
   "metadata": {
    "collapsed": false
   },
   "outputs": [
    {
     "data": {
      "text/plain": [
       "1"
      ]
     },
     "execution_count": 72,
     "metadata": {},
     "output_type": "execute_result"
    }
   ],
   "source": [
    "my_dict[\"one\"]"
   ]
  },
  {
   "cell_type": "markdown",
   "metadata": {},
   "source": [
    "## Exercise: turn a list into a dictionary of counts\n",
    "```\n",
    "[\"\"]...\n",
    "```"
   ]
  },
  {
   "cell_type": "markdown",
   "metadata": {},
   "source": [
    "# Reading data from file and the pandas dataframe"
   ]
  },
  {
   "cell_type": "markdown",
   "metadata": {},
   "source": [
    "### How to read data with \"normal\" python"
   ]
  },
  {
   "cell_type": "code",
   "execution_count": 7,
   "metadata": {
    "collapsed": false
   },
   "outputs": [
    {
     "name": "stdout",
     "output_type": "stream",
     "text": [
      "Center,First name,Surname,Gender,DOB,Attending since,Address,Choice 1 ,Choice 2,Choice 3 ,Choice 4 ,Choice 5 ,Choice 6 \r\n",
      "\n",
      "Yerevan,Arman,Hovhannisyan,Male,1998-07-31,2011-08-16,\"Հայաստան, Երևան, Վարդանանց փողոց 126/1\",Filmmaking,Photography,Graphic Design,Programming,Music,Writing\r\n",
      "\n"
     ]
    }
   ],
   "source": [
    "with open(\"data.csv\", \"r\") as f:\n",
    "    content = f.readlines()\n",
    "    print content[0]\n",
    "    print content[1]"
   ]
  },
  {
   "cell_type": "markdown",
   "metadata": {},
   "source": [
    "### How do you structure this data?"
   ]
  },
  {
   "cell_type": "code",
   "execution_count": 8,
   "metadata": {
    "collapsed": false
   },
   "outputs": [
    {
     "name": "stdout",
     "output_type": "stream",
     "text": [
      "['Arman', 'Hovhannisyan']\n"
     ]
    }
   ],
   "source": [
    "# hint\n",
    "string = \"Arman,Hovhannisyan\"\n",
    "split = string.split(\",\")\n",
    "print split"
   ]
  },
  {
   "cell_type": "code",
   "execution_count": 11,
   "metadata": {
    "collapsed": false
   },
   "outputs": [
    {
     "name": "stdout",
     "output_type": "stream",
     "text": [
      "[['Arman', 'Hovhannisyan'], ['Lilit', 'Tikoyan']]\n"
     ]
    }
   ],
   "source": [
    "# hint 2\n",
    "strings = [\"Arman,Hovhannisyan\", \"Lilit,Tikoyan\"]\n",
    "splits = []\n",
    "for string in strings:\n",
    "    splits.append(string.split(\",\"))\n",
    "print splits"
   ]
  },
  {
   "cell_type": "code",
   "execution_count": 22,
   "metadata": {
    "collapsed": false
   },
   "outputs": [
    {
     "name": "stdout",
     "output_type": "stream",
     "text": [
      "[['Arman', 'Hovhannisyan'], ['Lilit', 'Tikoyan']]\n"
     ]
    }
   ],
   "source": [
    "strings = [\"Arman,Hovhannisyan\", \"Lilit,Tikoyan\"]\n",
    "\n",
    "# Using the list comprehension\n",
    "splits = [string.split(\",\") for string in strings]\n",
    "\n",
    "print splits"
   ]
  },
  {
   "cell_type": "markdown",
   "metadata": {},
   "source": [
    "## How can you use list comprehension and the split function to structure the data?\n",
    "\n"
   ]
  },
  {
   "cell_type": "code",
   "execution_count": 23,
   "metadata": {
    "collapsed": false
   },
   "outputs": [],
   "source": [
    "data = []\n",
    "with open(\"data.csv\", \"r\") as f:\n",
    "    rows = f.readlines()\n",
    "    data = [row.split(\",\") for row in rows]"
   ]
  },
  {
   "cell_type": "code",
   "execution_count": 17,
   "metadata": {
    "collapsed": false
   },
   "outputs": [
    {
     "name": "stdout",
     "output_type": "stream",
     "text": [
      "['Center', 'First name', 'Surname', 'Gender', 'DOB', 'Attending since', 'Address', 'Choice 1 ', 'Choice 2', 'Choice 3 ', 'Choice 4 ', 'Choice 5 ', 'Choice 6 \\r\\n']\n"
     ]
    }
   ],
   "source": [
    "print data[0]"
   ]
  },
  {
   "cell_type": "code",
   "execution_count": 19,
   "metadata": {
    "collapsed": false
   },
   "outputs": [
    {
     "data": {
      "text/plain": [
       "['Yerevan',\n",
       " 'Arman',\n",
       " 'Hovhannisyan',\n",
       " 'Male',\n",
       " '1998-07-31',\n",
       " '2011-08-16',\n",
       " '\"\\xd5\\x80\\xd5\\xa1\\xd5\\xb5\\xd5\\xa1\\xd5\\xbd\\xd5\\xbf\\xd5\\xa1\\xd5\\xb6',\n",
       " ' \\xd4\\xb5\\xd6\\x80\\xd6\\x87\\xd5\\xa1\\xd5\\xb6',\n",
       " ' \\xd5\\x8e\\xd5\\xa1\\xd6\\x80\\xd5\\xa4\\xd5\\xa1\\xd5\\xb6\\xd5\\xa1\\xd5\\xb6\\xd6\\x81 \\xd6\\x83\\xd5\\xb8\\xd5\\xb2\\xd5\\xb8\\xd6\\x81 126/1\"',\n",
       " 'Filmmaking',\n",
       " 'Photography',\n",
       " 'Graphic Design',\n",
       " 'Programming',\n",
       " 'Music',\n",
       " 'Writing\\r\\n']"
      ]
     },
     "execution_count": 19,
     "metadata": {},
     "output_type": "execute_result"
    }
   ],
   "source": [
    "data[1]"
   ]
  },
  {
   "cell_type": "markdown",
   "metadata": {},
   "source": [
    "### What happened?\n",
    "\n",
    "```\n",
    " '\"\\xd5\\x80\\xd5\\xa1\\xd5\\xb5\\xd5\\xa1\\xd5\\xbd\\xd5\\xbf\\xd5\\xa1\\xd5\\xb6',\n",
    " ' \\xd4\\xb5\\xd6\\x80\\xd6\\x87\\xd5\\xa1\\xd5\\xb6',\n",
    " ' \\xd5\\x8e\\xd5\\xa1\\xd6\\x80\\xd5\\xa4\\xd5\\xa1\\xd5\\xb6\\xd5\\xa1\\xd5\\xb6\\xd6\\x81 \\xd6\\x83\\xd5\\xb8\\xd5\\xb2\\xd5\\xb8\\xd6\\x81\n",
    "```\n"
   ]
  },
  {
   "cell_type": "markdown",
   "metadata": {},
   "source": [
    "### Working with data can be hard!\n",
    "* Non standard characters\n",
    "* Commas in the data\n",
    "* Missing values"
   ]
  },
  {
   "cell_type": "markdown",
   "metadata": {},
   "source": [
    "# The solution: use a Pandas Dataframe"
   ]
  },
  {
   "cell_type": "code",
   "execution_count": 128,
   "metadata": {
    "collapsed": false
   },
   "outputs": [
    {
     "data": {
      "text/html": [
       "<div>\n",
       "<table border=\"1\" class=\"dataframe\">\n",
       "  <thead>\n",
       "    <tr style=\"text-align: right;\">\n",
       "      <th></th>\n",
       "      <th>Center</th>\n",
       "      <th>First name</th>\n",
       "      <th>Surname</th>\n",
       "      <th>Gender</th>\n",
       "      <th>DOB</th>\n",
       "      <th>Attending since</th>\n",
       "      <th>Address</th>\n",
       "      <th>Choice 1</th>\n",
       "      <th>Choice 2</th>\n",
       "      <th>Choice 3</th>\n",
       "      <th>Choice 4</th>\n",
       "      <th>Choice 5</th>\n",
       "      <th>Choice 6</th>\n",
       "    </tr>\n",
       "  </thead>\n",
       "  <tbody>\n",
       "    <tr>\n",
       "      <th>0</th>\n",
       "      <td>Yerevan</td>\n",
       "      <td>Arman</td>\n",
       "      <td>Hovhannisyan</td>\n",
       "      <td>Male</td>\n",
       "      <td>1998-07-31</td>\n",
       "      <td>2011-08-16</td>\n",
       "      <td>Հայաստան, Երևան, Վարդանանց փողոց 126/1</td>\n",
       "      <td>Filmmaking</td>\n",
       "      <td>Photography</td>\n",
       "      <td>Graphic Design</td>\n",
       "      <td>Programming</td>\n",
       "      <td>Music</td>\n",
       "      <td>Writing</td>\n",
       "    </tr>\n",
       "    <tr>\n",
       "      <th>1</th>\n",
       "      <td>Yerevan</td>\n",
       "      <td>Hasmik</td>\n",
       "      <td>muradyan</td>\n",
       "      <td>Female</td>\n",
       "      <td>1999-03-08</td>\n",
       "      <td>2017-06-07</td>\n",
       "      <td>Նոր Նորքի 8-րդ զանգված, Երևան, Հայաստան</td>\n",
       "      <td>NaN</td>\n",
       "      <td>NaN</td>\n",
       "      <td>NaN</td>\n",
       "      <td>NaN</td>\n",
       "      <td>NaN</td>\n",
       "      <td>NaN</td>\n",
       "    </tr>\n",
       "    <tr>\n",
       "      <th>2</th>\n",
       "      <td>Yerevan</td>\n",
       "      <td>Levon</td>\n",
       "      <td>Hambardzumyan</td>\n",
       "      <td>Male</td>\n",
       "      <td>1995-05-14</td>\n",
       "      <td>2011-08-25</td>\n",
       "      <td>Զաքարիա Քանաքեռցի փողոց, Երևան, Հայաստան</td>\n",
       "      <td>Filmmaking</td>\n",
       "      <td>Photography</td>\n",
       "      <td>Writing</td>\n",
       "      <td>Drawing</td>\n",
       "      <td>Game Development</td>\n",
       "      <td>3D Modeling</td>\n",
       "    </tr>\n",
       "    <tr>\n",
       "      <th>3</th>\n",
       "      <td>Yerevan</td>\n",
       "      <td>Mariam</td>\n",
       "      <td>Tigranyan</td>\n",
       "      <td>Female</td>\n",
       "      <td>1999-01-01</td>\n",
       "      <td>2012-01-18</td>\n",
       "      <td>Հայաստան, Yerevan, Սևակի 2 նր բ տ 26</td>\n",
       "      <td>Game Development</td>\n",
       "      <td>Programming</td>\n",
       "      <td>New Media</td>\n",
       "      <td>Photography</td>\n",
       "      <td>Motion Graphics</td>\n",
       "      <td>Robotics</td>\n",
       "    </tr>\n",
       "    <tr>\n",
       "      <th>4</th>\n",
       "      <td>Dilijan</td>\n",
       "      <td>Manvel</td>\n",
       "      <td>Muradyan</td>\n",
       "      <td>Male</td>\n",
       "      <td>2003-01-17</td>\n",
       "      <td>2016-11-29</td>\n",
       "      <td>Հայաստան, Տավուշի մարզ, գ․ Բերքաբեր, 5, 13</td>\n",
       "      <td>Game Development</td>\n",
       "      <td>3D Modeling</td>\n",
       "      <td>Drawing</td>\n",
       "      <td>Animation</td>\n",
       "      <td>Robotics</td>\n",
       "      <td>Music</td>\n",
       "    </tr>\n",
       "  </tbody>\n",
       "</table>\n",
       "</div>"
      ],
      "text/plain": [
       "    Center First name        Surname  Gender         DOB Attending since  \\\n",
       "0  Yerevan      Arman   Hovhannisyan    Male  1998-07-31      2011-08-16   \n",
       "1  Yerevan     Hasmik       muradyan  Female  1999-03-08      2017-06-07   \n",
       "2  Yerevan      Levon  Hambardzumyan    Male  1995-05-14      2011-08-25   \n",
       "3  Yerevan     Mariam      Tigranyan  Female  1999-01-01      2012-01-18   \n",
       "4  Dilijan     Manvel       Muradyan    Male  2003-01-17      2016-11-29   \n",
       "\n",
       "                                      Address         Choice 1      Choice 2  \\\n",
       "0      Հայաստան, Երևան, Վարդանանց փողոց 126/1        Filmmaking  Photography   \n",
       "1     Նոր Նորքի 8-րդ զանգված, Երևան, Հայաստան               NaN          NaN   \n",
       "2    Զաքարիա Քանաքեռցի փողոց, Երևան, Հայաստան        Filmmaking  Photography   \n",
       "3        Հայաստան, Yerevan, Սևակի 2 նր բ տ 26  Game Development  Programming   \n",
       "4  Հայաստան, Տավուշի մարզ, գ․ Բերքաբեր, 5, 13  Game Development  3D Modeling   \n",
       "\n",
       "        Choice 3     Choice 4          Choice 5     Choice 6   \n",
       "0  Graphic Design  Programming             Music      Writing  \n",
       "1             NaN          NaN               NaN          NaN  \n",
       "2         Writing      Drawing  Game Development  3D Modeling  \n",
       "3       New Media  Photography   Motion Graphics     Robotics  \n",
       "4         Drawing    Animation          Robotics        Music  "
      ]
     },
     "execution_count": 128,
     "metadata": {},
     "output_type": "execute_result"
    }
   ],
   "source": [
    "import pandas as pd\n",
    "data = pd.read_csv('data.csv')\n",
    "data"
   ]
  },
  {
   "cell_type": "code",
   "execution_count": 7,
   "metadata": {
    "collapsed": false
   },
   "outputs": [
    {
     "data": {
      "text/html": [
       "<div>\n",
       "<table border=\"1\" class=\"dataframe\">\n",
       "  <thead>\n",
       "    <tr style=\"text-align: right;\">\n",
       "      <th></th>\n",
       "      <th>Center</th>\n",
       "      <th>First name</th>\n",
       "      <th>Surname</th>\n",
       "      <th>Gender</th>\n",
       "      <th>DOB</th>\n",
       "      <th>Attending since</th>\n",
       "      <th>Address</th>\n",
       "      <th>Choice 1</th>\n",
       "      <th>Choice 2</th>\n",
       "      <th>Choice 3</th>\n",
       "      <th>Choice 4</th>\n",
       "      <th>Choice 5</th>\n",
       "      <th>Choice 6</th>\n",
       "    </tr>\n",
       "  </thead>\n",
       "  <tbody>\n",
       "    <tr>\n",
       "      <th>count</th>\n",
       "      <td>5</td>\n",
       "      <td>5</td>\n",
       "      <td>5</td>\n",
       "      <td>5</td>\n",
       "      <td>5</td>\n",
       "      <td>5</td>\n",
       "      <td>5</td>\n",
       "      <td>4</td>\n",
       "      <td>4</td>\n",
       "      <td>4</td>\n",
       "      <td>4</td>\n",
       "      <td>4</td>\n",
       "      <td>4</td>\n",
       "    </tr>\n",
       "    <tr>\n",
       "      <th>unique</th>\n",
       "      <td>2</td>\n",
       "      <td>5</td>\n",
       "      <td>5</td>\n",
       "      <td>2</td>\n",
       "      <td>5</td>\n",
       "      <td>5</td>\n",
       "      <td>5</td>\n",
       "      <td>2</td>\n",
       "      <td>3</td>\n",
       "      <td>4</td>\n",
       "      <td>4</td>\n",
       "      <td>4</td>\n",
       "      <td>4</td>\n",
       "    </tr>\n",
       "    <tr>\n",
       "      <th>top</th>\n",
       "      <td>Yerevan</td>\n",
       "      <td>Hasmik</td>\n",
       "      <td>Hovhannisyan</td>\n",
       "      <td>Male</td>\n",
       "      <td>1999-01-01</td>\n",
       "      <td>2012-01-18</td>\n",
       "      <td>Նոր Նորքի 8-րդ զանգված, Երևան, Հայաստան</td>\n",
       "      <td>Filmmaking</td>\n",
       "      <td>Photography</td>\n",
       "      <td>New Media</td>\n",
       "      <td>Drawing</td>\n",
       "      <td>Motion Graphics</td>\n",
       "      <td>Writing</td>\n",
       "    </tr>\n",
       "    <tr>\n",
       "      <th>freq</th>\n",
       "      <td>4</td>\n",
       "      <td>1</td>\n",
       "      <td>1</td>\n",
       "      <td>3</td>\n",
       "      <td>1</td>\n",
       "      <td>1</td>\n",
       "      <td>1</td>\n",
       "      <td>2</td>\n",
       "      <td>2</td>\n",
       "      <td>1</td>\n",
       "      <td>1</td>\n",
       "      <td>1</td>\n",
       "      <td>1</td>\n",
       "    </tr>\n",
       "  </tbody>\n",
       "</table>\n",
       "</div>"
      ],
      "text/plain": [
       "         Center First name       Surname Gender         DOB Attending since  \\\n",
       "count         5          5             5      5           5               5   \n",
       "unique        2          5             5      2           5               5   \n",
       "top     Yerevan     Hasmik  Hovhannisyan   Male  1999-01-01      2012-01-18   \n",
       "freq          4          1             1      3           1               1   \n",
       "\n",
       "                                        Address   Choice 1      Choice 2  \\\n",
       "count                                         5           4            4   \n",
       "unique                                        5           2            3   \n",
       "top     Նոր Նորքի 8-րդ զանգված, Երևան, Հայաստան  Filmmaking  Photography   \n",
       "freq                                          1           2            2   \n",
       "\n",
       "        Choice 3  Choice 4         Choice 5  Choice 6   \n",
       "count           4         4                4         4  \n",
       "unique          4         4                4         4  \n",
       "top     New Media   Drawing  Motion Graphics   Writing  \n",
       "freq            1         1                1         1  "
      ]
     },
     "execution_count": 7,
     "metadata": {},
     "output_type": "execute_result"
    }
   ],
   "source": [
    "data.describe()"
   ]
  },
  {
   "cell_type": "code",
   "execution_count": 8,
   "metadata": {
    "collapsed": false
   },
   "outputs": [
    {
     "data": {
      "text/html": [
       "<div>\n",
       "<table border=\"1\" class=\"dataframe\">\n",
       "  <thead>\n",
       "    <tr style=\"text-align: right;\">\n",
       "      <th></th>\n",
       "      <th>0</th>\n",
       "      <th>1</th>\n",
       "      <th>2</th>\n",
       "      <th>3</th>\n",
       "      <th>4</th>\n",
       "    </tr>\n",
       "  </thead>\n",
       "  <tbody>\n",
       "    <tr>\n",
       "      <th>Center</th>\n",
       "      <td>Yerevan</td>\n",
       "      <td>Yerevan</td>\n",
       "      <td>Yerevan</td>\n",
       "      <td>Yerevan</td>\n",
       "      <td>Dilijan</td>\n",
       "    </tr>\n",
       "    <tr>\n",
       "      <th>First name</th>\n",
       "      <td>Arman</td>\n",
       "      <td>Hasmik</td>\n",
       "      <td>Levon</td>\n",
       "      <td>Mariam</td>\n",
       "      <td>Manvel</td>\n",
       "    </tr>\n",
       "    <tr>\n",
       "      <th>Surname</th>\n",
       "      <td>Hovhannisyan</td>\n",
       "      <td>muradyan</td>\n",
       "      <td>Hambardzumyan</td>\n",
       "      <td>Tigranyan</td>\n",
       "      <td>Muradyan</td>\n",
       "    </tr>\n",
       "    <tr>\n",
       "      <th>Gender</th>\n",
       "      <td>Male</td>\n",
       "      <td>Female</td>\n",
       "      <td>Male</td>\n",
       "      <td>Female</td>\n",
       "      <td>Male</td>\n",
       "    </tr>\n",
       "    <tr>\n",
       "      <th>DOB</th>\n",
       "      <td>1998-07-31</td>\n",
       "      <td>1999-03-08</td>\n",
       "      <td>1995-05-14</td>\n",
       "      <td>1999-01-01</td>\n",
       "      <td>2003-01-17</td>\n",
       "    </tr>\n",
       "    <tr>\n",
       "      <th>Attending since</th>\n",
       "      <td>2011-08-16</td>\n",
       "      <td>2017-06-07</td>\n",
       "      <td>2011-08-25</td>\n",
       "      <td>2012-01-18</td>\n",
       "      <td>2016-11-29</td>\n",
       "    </tr>\n",
       "    <tr>\n",
       "      <th>Address</th>\n",
       "      <td>Հայաստան, Երևան, Վարդանանց փողոց 126/1</td>\n",
       "      <td>Նոր Նորքի 8-րդ զանգված, Երևան, Հայաստան</td>\n",
       "      <td>Զաքարիա Քանաքեռցի փողոց, Երևան, Հայաստան</td>\n",
       "      <td>Հայաստան, Yerevan, Սևակի 2 նր բ տ 26</td>\n",
       "      <td>Հայաստան, Տավուշի մարզ, գ․ Բերքաբեր, 5, 13</td>\n",
       "    </tr>\n",
       "    <tr>\n",
       "      <th>Choice 1</th>\n",
       "      <td>Filmmaking</td>\n",
       "      <td>NaN</td>\n",
       "      <td>Filmmaking</td>\n",
       "      <td>Game Development</td>\n",
       "      <td>Game Development</td>\n",
       "    </tr>\n",
       "    <tr>\n",
       "      <th>Choice 2</th>\n",
       "      <td>Photography</td>\n",
       "      <td>NaN</td>\n",
       "      <td>Photography</td>\n",
       "      <td>Programming</td>\n",
       "      <td>3D Modeling</td>\n",
       "    </tr>\n",
       "    <tr>\n",
       "      <th>Choice 3</th>\n",
       "      <td>Graphic Design</td>\n",
       "      <td>NaN</td>\n",
       "      <td>Writing</td>\n",
       "      <td>New Media</td>\n",
       "      <td>Drawing</td>\n",
       "    </tr>\n",
       "    <tr>\n",
       "      <th>Choice 4</th>\n",
       "      <td>Programming</td>\n",
       "      <td>NaN</td>\n",
       "      <td>Drawing</td>\n",
       "      <td>Photography</td>\n",
       "      <td>Animation</td>\n",
       "    </tr>\n",
       "    <tr>\n",
       "      <th>Choice 5</th>\n",
       "      <td>Music</td>\n",
       "      <td>NaN</td>\n",
       "      <td>Game Development</td>\n",
       "      <td>Motion Graphics</td>\n",
       "      <td>Robotics</td>\n",
       "    </tr>\n",
       "    <tr>\n",
       "      <th>Choice 6</th>\n",
       "      <td>Writing</td>\n",
       "      <td>NaN</td>\n",
       "      <td>3D Modeling</td>\n",
       "      <td>Robotics</td>\n",
       "      <td>Music</td>\n",
       "    </tr>\n",
       "  </tbody>\n",
       "</table>\n",
       "</div>"
      ],
      "text/plain": [
       "                                                      0  \\\n",
       "Center                                          Yerevan   \n",
       "First name                                        Arman   \n",
       "Surname                                    Hovhannisyan   \n",
       "Gender                                             Male   \n",
       "DOB                                          1998-07-31   \n",
       "Attending since                              2011-08-16   \n",
       "Address          Հայաստան, Երևան, Վարդանանց փողոց 126/1   \n",
       "Choice 1                                     Filmmaking   \n",
       "Choice 2                                    Photography   \n",
       "Choice 3                                 Graphic Design   \n",
       "Choice 4                                    Programming   \n",
       "Choice 5                                          Music   \n",
       "Choice 6                                        Writing   \n",
       "\n",
       "                                                       1  \\\n",
       "Center                                           Yerevan   \n",
       "First name                                        Hasmik   \n",
       "Surname                                         muradyan   \n",
       "Gender                                            Female   \n",
       "DOB                                           1999-03-08   \n",
       "Attending since                               2017-06-07   \n",
       "Address          Նոր Նորքի 8-րդ զանգված, Երևան, Հայաստան   \n",
       "Choice 1                                             NaN   \n",
       "Choice 2                                             NaN   \n",
       "Choice 3                                             NaN   \n",
       "Choice 4                                             NaN   \n",
       "Choice 5                                             NaN   \n",
       "Choice 6                                             NaN   \n",
       "\n",
       "                                                        2  \\\n",
       "Center                                            Yerevan   \n",
       "First name                                          Levon   \n",
       "Surname                                     Hambardzumyan   \n",
       "Gender                                               Male   \n",
       "DOB                                            1995-05-14   \n",
       "Attending since                                2011-08-25   \n",
       "Address          Զաքարիա Քանաքեռցի փողոց, Երևան, Հայաստան   \n",
       "Choice 1                                       Filmmaking   \n",
       "Choice 2                                      Photography   \n",
       "Choice 3                                          Writing   \n",
       "Choice 4                                          Drawing   \n",
       "Choice 5                                 Game Development   \n",
       "Choice 6                                      3D Modeling   \n",
       "\n",
       "                                                    3  \\\n",
       "Center                                        Yerevan   \n",
       "First name                                     Mariam   \n",
       "Surname                                     Tigranyan   \n",
       "Gender                                         Female   \n",
       "DOB                                        1999-01-01   \n",
       "Attending since                            2012-01-18   \n",
       "Address          Հայաստան, Yerevan, Սևակի 2 նր բ տ 26   \n",
       "Choice 1                             Game Development   \n",
       "Choice 2                                  Programming   \n",
       "Choice 3                                    New Media   \n",
       "Choice 4                                  Photography   \n",
       "Choice 5                              Motion Graphics   \n",
       "Choice 6                                     Robotics   \n",
       "\n",
       "                                                          4  \n",
       "Center                                              Dilijan  \n",
       "First name                                           Manvel  \n",
       "Surname                                            Muradyan  \n",
       "Gender                                                 Male  \n",
       "DOB                                              2003-01-17  \n",
       "Attending since                                  2016-11-29  \n",
       "Address          Հայաստան, Տավուշի մարզ, գ․ Բերքաբեր, 5, 13  \n",
       "Choice 1                                   Game Development  \n",
       "Choice 2                                        3D Modeling  \n",
       "Choice 3                                            Drawing  \n",
       "Choice 4                                          Animation  \n",
       "Choice 5                                           Robotics  \n",
       "Choice 6                                              Music  "
      ]
     },
     "execution_count": 8,
     "metadata": {},
     "output_type": "execute_result"
    }
   ],
   "source": [
    "data.T"
   ]
  },
  {
   "cell_type": "code",
   "execution_count": 9,
   "metadata": {
    "collapsed": false
   },
   "outputs": [
    {
     "data": {
      "text/plain": [
       "0    Yerevan\n",
       "1    Yerevan\n",
       "2    Yerevan\n",
       "3    Yerevan\n",
       "4    Dilijan\n",
       "Name: Center, dtype: object"
      ]
     },
     "execution_count": 9,
     "metadata": {},
     "output_type": "execute_result"
    }
   ],
   "source": [
    "data[\"Center\"]"
   ]
  },
  {
   "cell_type": "markdown",
   "metadata": {},
   "source": [
    "# Exercise: Create a map of {center: number of students}\n",
    "## For example:\n",
    "`{ \"Yerevan\": 10, \"Dilijan\": 5, ...}`"
   ]
  },
  {
   "cell_type": "code",
   "execution_count": 10,
   "metadata": {
    "collapsed": false
   },
   "outputs": [
    {
     "data": {
      "text/plain": [
       "{'Yerevan': 1}"
      ]
     },
     "execution_count": 10,
     "metadata": {},
     "output_type": "execute_result"
    }
   ],
   "source": [
    "# Hint\n",
    "m = {}\n",
    "# m[\"Yerevan\"]\n",
    "# ERROR!\n",
    "\n",
    "m.get(\"Yerevan\", 0)\n",
    "# 0\n",
    "\n",
    "m[\"Yerevan\"] = m.get(\"Yerevan\", 0) + 1\n",
    "m"
   ]
  },
  {
   "cell_type": "markdown",
   "metadata": {},
   "source": [
    "### Solution"
   ]
  },
  {
   "cell_type": "code",
   "execution_count": 97,
   "metadata": {
    "collapsed": false
   },
   "outputs": [
    {
     "name": "stdout",
     "output_type": "stream",
     "text": [
      "{'Dilijan': 1, 'Yerevan': 4}\n"
     ]
    }
   ],
   "source": [
    "counts = {}\n",
    "for center in data[\"Center\"]:\n",
    "    counts[center] = counts.get(center, 0) + 1\n",
    "print counts"
   ]
  },
  {
   "cell_type": "markdown",
   "metadata": {},
   "source": [
    "# Plotting with Seaborn"
   ]
  },
  {
   "cell_type": "code",
   "execution_count": 98,
   "metadata": {
    "collapsed": false
   },
   "outputs": [],
   "source": [
    "import seaborn as sns"
   ]
  },
  {
   "cell_type": "code",
   "execution_count": 99,
   "metadata": {
    "collapsed": false
   },
   "outputs": [
    {
     "data": {
      "text/plain": [
       "<matplotlib.axes._subplots.AxesSubplot at 0x10c2f0510>"
      ]
     },
     "execution_count": 99,
     "metadata": {},
     "output_type": "execute_result"
    },
    {
     "data": {
      "image/png": "[encoded data removed]",
      "text/plain": [
       "<matplotlib.figure.Figure at 0x10b56bcd0>"
      ]
     },
     "metadata": {},
     "output_type": "display_data"
    }
   ],
   "source": [
    "#plot = sns.countplot()\n",
    "%matplotlib inline\n",
    "sns.countplot(x='Center', data=data)"
   ]
  },
  {
   "cell_type": "markdown",
   "metadata": {
    "collapsed": false
   },
   "source": [
    "## Exercise: write a function to create a count map out of any column\n",
    "\n",
    "#### Turn this:\n",
    "```\n",
    "counts = {}\n",
    "for center in data[\"Center\"]:\n",
    "    counts[center] = counts.get(center, 0) + 1\n",
    "print counts\n",
    "```\n",
    "#### Into a Function\n",
    "\n",
    "```\n",
    "def count(column):\n",
    "    ...\n",
    "``` \n",
    "\n",
    "#### So that we can run this:\n",
    "```\n",
    "count(\"Center\")\n",
    "```\n",
    "\n",
    "#### And get this:\n",
    "```\n",
    "{'Dilijan': 1, 'Yerevan': 4}\n",
    "```"
   ]
  },
  {
   "cell_type": "code",
   "execution_count": 104,
   "metadata": {
    "collapsed": true
   },
   "outputs": [],
   "source": [
    "def list_to_counts(column):\n",
    "    counts = {}\n",
    "    for item in data[column]:\n",
    "        counts[item] = counts.get(item, 0) + 1\n",
    "    return counts"
   ]
  },
  {
   "cell_type": "code",
   "execution_count": 105,
   "metadata": {
    "collapsed": false
   },
   "outputs": [
    {
     "data": {
      "text/plain": [
       "{'Dilijan': 1, 'Yerevan': 4}"
      ]
     },
     "execution_count": 105,
     "metadata": {},
     "output_type": "execute_result"
    }
   ],
   "source": [
    "list_to_counts(\"Center\")"
   ]
  },
  {
   "cell_type": "code",
   "execution_count": 106,
   "metadata": {
    "collapsed": false
   },
   "outputs": [
    {
     "name": "stdout",
     "output_type": "stream",
     "text": [
      "{nan: 1, 'Game Development': 2, 'Filmmaking': 2}\n"
     ]
    }
   ],
   "source": [
    "c1 = list_to_counts(\"Choice 1 \")\n",
    "print c1"
   ]
  },
  {
   "cell_type": "markdown",
   "metadata": {},
   "source": [
    "## What is \"nan\", how to get rid of it?"
   ]
  },
  {
   "cell_type": "code",
   "execution_count": 114,
   "metadata": {
    "collapsed": false
   },
   "outputs": [
    {
     "data": {
      "text/html": [
       "<div>\n",
       "<table border=\"1\" class=\"dataframe\">\n",
       "  <thead>\n",
       "    <tr style=\"text-align: right;\">\n",
       "      <th></th>\n",
       "      <th>Center</th>\n",
       "      <th>First name</th>\n",
       "      <th>Surname</th>\n",
       "      <th>Gender</th>\n",
       "      <th>DOB</th>\n",
       "      <th>Attending since</th>\n",
       "      <th>Address</th>\n",
       "      <th>Choice 1</th>\n",
       "      <th>Choice 2</th>\n",
       "      <th>Choice 3</th>\n",
       "      <th>Choice 4</th>\n",
       "      <th>Choice 5</th>\n",
       "      <th>Choice 6</th>\n",
       "    </tr>\n",
       "  </thead>\n",
       "  <tbody>\n",
       "    <tr>\n",
       "      <th>0</th>\n",
       "      <td>Yerevan</td>\n",
       "      <td>Arman</td>\n",
       "      <td>Hovhannisyan</td>\n",
       "      <td>Male</td>\n",
       "      <td>1998-07-31</td>\n",
       "      <td>2011-08-16</td>\n",
       "      <td>Հայաստան, Երևան, Վարդանանց փողոց 126/1</td>\n",
       "      <td>Filmmaking</td>\n",
       "      <td>Photography</td>\n",
       "      <td>Graphic Design</td>\n",
       "      <td>Programming</td>\n",
       "      <td>Music</td>\n",
       "      <td>Writing</td>\n",
       "    </tr>\n",
       "    <tr>\n",
       "      <th>1</th>\n",
       "      <td>Yerevan</td>\n",
       "      <td>Hasmik</td>\n",
       "      <td>muradyan</td>\n",
       "      <td>Female</td>\n",
       "      <td>1999-03-08</td>\n",
       "      <td>2017-06-07</td>\n",
       "      <td>Նոր Նորքի 8-րդ զանգված, Երևան, Հայաստան</td>\n",
       "      <td></td>\n",
       "      <td></td>\n",
       "      <td></td>\n",
       "      <td></td>\n",
       "      <td></td>\n",
       "      <td></td>\n",
       "    </tr>\n",
       "    <tr>\n",
       "      <th>2</th>\n",
       "      <td>Yerevan</td>\n",
       "      <td>Levon</td>\n",
       "      <td>Hambardzumyan</td>\n",
       "      <td>Male</td>\n",
       "      <td>1995-05-14</td>\n",
       "      <td>2011-08-25</td>\n",
       "      <td>Զաքարիա Քանաքեռցի փողոց, Երևան, Հայաստան</td>\n",
       "      <td>Filmmaking</td>\n",
       "      <td>Photography</td>\n",
       "      <td>Writing</td>\n",
       "      <td>Drawing</td>\n",
       "      <td>Game Development</td>\n",
       "      <td>3D Modeling</td>\n",
       "    </tr>\n",
       "    <tr>\n",
       "      <th>3</th>\n",
       "      <td>Yerevan</td>\n",
       "      <td>Mariam</td>\n",
       "      <td>Tigranyan</td>\n",
       "      <td>Female</td>\n",
       "      <td>1999-01-01</td>\n",
       "      <td>2012-01-18</td>\n",
       "      <td>Հայաստան, Yerevan, Սևակի 2 նր բ տ 26</td>\n",
       "      <td>Game Development</td>\n",
       "      <td>Programming</td>\n",
       "      <td>New Media</td>\n",
       "      <td>Photography</td>\n",
       "      <td>Motion Graphics</td>\n",
       "      <td>Robotics</td>\n",
       "    </tr>\n",
       "    <tr>\n",
       "      <th>4</th>\n",
       "      <td>Dilijan</td>\n",
       "      <td>Manvel</td>\n",
       "      <td>Muradyan</td>\n",
       "      <td>Male</td>\n",
       "      <td>2003-01-17</td>\n",
       "      <td>2016-11-29</td>\n",
       "      <td>Հայաստան, Տավուշի մարզ, գ․ Բերքաբեր, 5, 13</td>\n",
       "      <td>Game Development</td>\n",
       "      <td>3D Modeling</td>\n",
       "      <td>Drawing</td>\n",
       "      <td>Animation</td>\n",
       "      <td>Robotics</td>\n",
       "      <td>Music</td>\n",
       "    </tr>\n",
       "  </tbody>\n",
       "</table>\n",
       "</div>"
      ],
      "text/plain": [
       "    Center First name        Surname  Gender         DOB Attending since  \\\n",
       "0  Yerevan      Arman   Hovhannisyan    Male  1998-07-31      2011-08-16   \n",
       "1  Yerevan     Hasmik       muradyan  Female  1999-03-08      2017-06-07   \n",
       "2  Yerevan      Levon  Hambardzumyan    Male  1995-05-14      2011-08-25   \n",
       "3  Yerevan     Mariam      Tigranyan  Female  1999-01-01      2012-01-18   \n",
       "4  Dilijan     Manvel       Muradyan    Male  2003-01-17      2016-11-29   \n",
       "\n",
       "                                      Address         Choice 1      Choice 2  \\\n",
       "0      Հայաստան, Երևան, Վարդանանց փողոց 126/1        Filmmaking  Photography   \n",
       "1     Նոր Նորքի 8-րդ զանգված, Երևան, Հայաստան                                  \n",
       "2    Զաքարիա Քանաքեռցի փողոց, Երևան, Հայաստան        Filmmaking  Photography   \n",
       "3        Հայաստան, Yerevan, Սևակի 2 նր բ տ 26  Game Development  Programming   \n",
       "4  Հայաստան, Տավուշի մարզ, գ․ Բերքաբեր, 5, 13  Game Development  3D Modeling   \n",
       "\n",
       "        Choice 3     Choice 4          Choice 5     Choice 6   \n",
       "0  Graphic Design  Programming             Music      Writing  \n",
       "1                                                              \n",
       "2         Writing      Drawing  Game Development  3D Modeling  \n",
       "3       New Media  Photography   Motion Graphics     Robotics  \n",
       "4         Drawing    Animation          Robotics        Music  "
      ]
     },
     "execution_count": 114,
     "metadata": {},
     "output_type": "execute_result"
    }
   ],
   "source": [
    "data.fillna(\"\")"
   ]
  },
  {
   "cell_type": "code",
   "execution_count": 130,
   "metadata": {
    "collapsed": true
   },
   "outputs": [],
   "source": [
    "data_clean = data.fillna(\"\")"
   ]
  },
  {
   "cell_type": "code",
   "execution_count": 131,
   "metadata": {
    "collapsed": false
   },
   "outputs": [
    {
     "name": "stdout",
     "output_type": "stream",
     "text": [
      "{nan: 1, 'Game Development': 2, 'Filmmaking': 2}\n"
     ]
    }
   ],
   "source": [
    "c1 = list_to_counts(\"Choice 1 \")\n",
    "print c1"
   ]
  },
  {
   "cell_type": "code",
   "execution_count": 132,
   "metadata": {
    "collapsed": true
   },
   "outputs": [],
   "source": [
    "def list_to_counts(column):\n",
    "    counts = {}\n",
    "    for item in data_clean[column]:\n",
    "        if item:\n",
    "            counts[item] = counts.get(item, 0) + 1\n",
    "    return counts"
   ]
  },
  {
   "cell_type": "code",
   "execution_count": 133,
   "metadata": {
    "collapsed": false
   },
   "outputs": [
    {
     "name": "stdout",
     "output_type": "stream",
     "text": [
      "{'Game Development': 2, 'Filmmaking': 2}\n"
     ]
    }
   ],
   "source": [
    "c1 = list_to_counts(\"Choice 1 \")\n",
    "print c1"
   ]
  },
  {
   "cell_type": "markdown",
   "metadata": {},
   "source": [
    "### What does \"`if item:`\" do?"
   ]
  },
  {
   "cell_type": "code",
   "execution_count": 134,
   "metadata": {
    "collapsed": false
   },
   "outputs": [
    {
     "name": "stdout",
     "output_type": "stream",
     "text": [
      "\"\" is False!\n"
     ]
    }
   ],
   "source": [
    "if \"\":\n",
    "    print '\"\" is True!'\n",
    "else:\n",
    "    print '\"\" is False!'"
   ]
  },
  {
   "cell_type": "code",
   "execution_count": 136,
   "metadata": {
    "collapsed": false
   },
   "outputs": [
    {
     "data": {
      "text/plain": [
       "<matplotlib.axes._subplots.AxesSubplot at 0x107d44890>"
      ]
     },
     "execution_count": 136,
     "metadata": {},
     "output_type": "execute_result"
    },
    {
     "data": {
      "image/png": "[encoded data removed]",
      "text/plain": [
       "<matplotlib.figure.Figure at 0x10c267c90>"
      ]
     },
     "metadata": {},
     "output_type": "display_data"
    }
   ],
   "source": [
    "%matplotlib inline\n",
    "sns.countplot(x='Choice 1 ', data=data)\n"
   ]
  },
  {
   "cell_type": "code",
   "execution_count": 137,
   "metadata": {
    "collapsed": false
   },
   "outputs": [
    {
     "data": {
      "text/plain": [
       "{'Filmmaking': 2, 'Game Development': 2}"
      ]
     },
     "execution_count": 137,
     "metadata": {},
     "output_type": "execute_result"
    }
   ],
   "source": [
    "c = list_to_counts('Choice 1 ')\n",
    "c"
   ]
  },
  {
   "cell_type": "markdown",
   "metadata": {},
   "source": [
    "## Exercise: What is the most common topic across all choices?"
   ]
  },
  {
   "cell_type": "code",
   "execution_count": 138,
   "metadata": {
    "collapsed": false
   },
   "outputs": [
    {
     "name": "stdout",
     "output_type": "stream",
     "text": [
      "key: two\n",
      "value: 2\n",
      "----------------\n",
      "key: one\n",
      "value: 1\n",
      "----------------\n"
     ]
    }
   ],
   "source": [
    "# hint: use iteritems()\n",
    "m = {\"one\": 1, \"two\": 2}\n",
    "for key, value in m.iteritems():\n",
    "    print \"key: {}\".format(key)\n",
    "    print \"value: {}\".format(value)\n",
    "    print \"----------------\"\n"
   ]
  },
  {
   "cell_type": "code",
   "execution_count": 139,
   "metadata": {
    "collapsed": false
   },
   "outputs": [
    {
     "name": "stdout",
     "output_type": "stream",
     "text": [
      "{'Robotics': 2, 'Game Development': 3, '3D Modeling': 2, 'Photography': 3, 'New Media': 1, 'Programming': 2, 'Writing': 2, 'Graphic Design': 1, 'Animation': 1, 'Music': 2, 'Filmmaking': 2, 'Drawing': 2, 'Motion Graphics': 1}\n"
     ]
    }
   ],
   "source": [
    "c1 = list_to_counts('Choice 1 ')\n",
    "c2 = list_to_counts('Choice 2')\n",
    "c3 = list_to_counts('Choice 3 ')\n",
    "c4 = list_to_counts('Choice 4 ')\n",
    "c5 = list_to_counts('Choice 5 ')\n",
    "c6 = list_to_counts('Choice 6 ')\n",
    "\n",
    "total_counts = {}\n",
    "for count_map in [c1, c2, c3, c4, c5, c6]:\n",
    "    for choice, count in count_map.iteritems():\n",
    "        if choice != \"nan\":\n",
    "            total_counts[choice] = total_counts.get(choice, 0) + count\n",
    "\n",
    "print total_counts\n",
    "    "
   ]
  },
  {
   "cell_type": "markdown",
   "metadata": {},
   "source": [
    "## Exercise: use pylab to plot this data"
   ]
  },
  {
   "cell_type": "code",
   "execution_count": 140,
   "metadata": {
    "collapsed": false
   },
   "outputs": [
    {
     "data": {
      "image/png": "[encoded data removed]",
      "text/plain": [
       "<matplotlib.figure.Figure at 0x10ad15390>"
      ]
     },
     "metadata": {},
     "output_type": "display_data"
    }
   ],
   "source": [
    "### EXAMPLE - Change this to plot total_counts\n",
    "\n",
    "import matplotlib.pyplot as plt; plt.rcdefaults()\n",
    "import numpy as np\n",
    "import matplotlib.pyplot as plt\n",
    " \n",
    "x_ticks = ('Python', 'C++', 'Java', 'Perl', 'Scala', 'Lisp')\n",
    "y_pos = np.arange(len(x_ticks))\n",
    "values = [10,8,6,4,2,1]\n",
    " \n",
    "plt.bar(y_pos, values, align='center', alpha=0.5)\n",
    "plt.xticks(y_pos, x_ticks)\n",
    "plt.ylabel('Usage')\n",
    "plt.title('Programming language usage')\n",
    " \n",
    "plt.show()"
   ]
  },
  {
   "cell_type": "code",
   "execution_count": 141,
   "metadata": {
    "collapsed": false
   },
   "outputs": [
    {
     "name": "stdout",
     "output_type": "stream",
     "text": [
      "[0 1 2 3 4 5]\n"
     ]
    }
   ],
   "source": [
    "print y_pos"
   ]
  },
  {
   "cell_type": "markdown",
   "metadata": {},
   "source": [
    "### Change the above to plot total_counts"
   ]
  },
  {
   "cell_type": "code",
   "execution_count": 142,
   "metadata": {
    "collapsed": false
   },
   "outputs": [
    {
     "data": {
      "image/png": "[encoded data removed]",
      "text/plain": [
       "<matplotlib.figure.Figure at 0x10c4eb250>"
      ]
     },
     "metadata": {},
     "output_type": "display_data"
    }
   ],
   "source": [
    "import matplotlib.pyplot as plt; plt.rcdefaults()\n",
    "import numpy as np\n",
    "import matplotlib.pyplot as plt\n",
    " \n",
    "topics = total_counts.keys()\n",
    "y_pos = np.arange(len(topics))\n",
    "performance = total_counts.values()\n",
    " \n",
    "plt.bar(y_pos, performance, align='center', alpha=0.5)\n",
    "plt.xticks(y_pos, topics)\n",
    "plt.ylabel('Number of students')\n",
    "plt.title('Course')\n",
    "plt.xticks(rotation=70)\n",
    "plt.show()"
   ]
  },
  {
   "cell_type": "markdown",
   "metadata": {},
   "source": [
    "## Exercise: Order by count"
   ]
  },
  {
   "cell_type": "code",
   "execution_count": null,
   "metadata": {
    "collapsed": true
   },
   "outputs": [],
   "source": [
    "import matplotlib.pyplot as plt; plt.rcdefaults()\n",
    "import numpy as np\n",
    "import matplotlib.pyplot as plt\n",
    " \n",
    "topics = total_counts.keys()\n",
    "y_pos = np.arange(len(topics))\n",
    "performance = total_counts.values()\n",
    " \n",
    "plt.bar(y_pos, performance, align='center', alpha=0.5)\n",
    "plt.xticks(y_pos, topics)\n",
    "plt.ylabel('Number of students')\n",
    "plt.title('Course')\n",
    "plt.xticks(rotation=70)\n",
    "plt.show()"
   ]
  },
  {
   "cell_type": "code",
   "execution_count": null,
   "metadata": {
    "collapsed": true
   },
   "outputs": [],
   "source": []
  }
 ],
 "metadata": {
  "kernelspec": {
   "display_name": "Python 2",
   "language": "python",
   "name": "python2"
  },
  "language_info": {
   "codemirror_mode": {
    "name": "ipython",
    "version": 2
   },
   "file_extension": ".py",
   "mimetype": "text/x-python",
   "name": "python",
   "nbconvert_exporter": "python",
   "pygments_lexer": "ipython2",
   "version": "2.7.10"
  }
 },
 "nbformat": 4,
 "nbformat_minor": 0
}
